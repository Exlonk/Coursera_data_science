{
 "cells": [
  {
   "cell_type": "markdown",
   "metadata": {},
   "source": [
    "<h1> My Jupyter Notebook on IBM </h1>"
   ]
  },
  {
   "cell_type": "markdown",
   "metadata": {},
   "source": [
    "<strong>Exlonk Gil</strong>\n",
    "<p>Chemist</p>"
   ]
  },
  {
   "cell_type": "markdown",
   "metadata": {},
   "source": [
    "<p style=\"font-style:italic\">I am interested in data science because of all the new knowledge that it can provide</p>\n"
   ]
  },
  {
   "cell_type": "markdown",
   "metadata": {},
   "source": [
    "<h3>The code in cell 5 take the numer 5 and find its root</h3>"
   ]
  },
  {
   "cell_type": "code",
   "execution_count": 6,
   "metadata": {},
   "outputs": [
    {
     "data": {
      "text/plain": [
       "2.23606797749979"
      ]
     },
     "execution_count": 6,
     "metadata": {},
     "output_type": "execute_result"
    }
   ],
   "source": [
    "5**(1/2)"
   ]
  },
  {
   "cell_type": "markdown",
   "metadata": {},
   "source": [
    "<h3 style=\"color:red\"> Numbered List </h3>\n",
    "<ol>\n",
    "  <li> one </li>\n",
    "  <li> two </li>\n",
    "  <li> three </li>\n",
    "</ol>\n",
    "<h3 style=\"color:red\"> Link </h3>\n",
    "<a href=\"https://www.coursera.org/\"> Coursera Link </a>\n",
    "<h3 style=\"color:red\"> Bulleted List </h3>\n",
    "<ul>\n",
    "  <li> one </li>\n",
    "  <li> two </li>\n",
    "  <li> three </li>\n",
    "</ul>\n",
    "<h3 style=\"color:red\"> Table </h3> \n",
    "\n"
   ]
  },
  {
   "cell_type": "markdown",
   "metadata": {},
   "source": [
    "|compoend|fuctional group|\n",
    "|--------|---------------|\n",
    "|etanol| alcohol|\n",
    "|formaldehyde|ketone|\n"
   ]
  }
 ],
 "metadata": {
  "kernelspec": {
   "display_name": "Python 3.8.8",
   "language": "python",
   "name": "python3"
  },
  "language_info": {
   "codemirror_mode": {
    "name": "ipython",
    "version": 3
   },
   "file_extension": ".py",
   "mimetype": "text/x-python",
   "name": "python",
   "nbconvert_exporter": "python",
   "pygments_lexer": "ipython3",
   "version": "3.8.8"
  },
  "orig_nbformat": 4,
  "vscode": {
   "interpreter": {
    "hash": "a1a85bfd7d2897c671f4997dd5934651cd4e5fac15c12d8f023a17c9b98ad943"
   }
  }
 },
 "nbformat": 4,
 "nbformat_minor": 2
}
